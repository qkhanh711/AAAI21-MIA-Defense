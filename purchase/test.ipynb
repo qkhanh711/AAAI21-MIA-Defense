{
 "cells": [
  {
   "cell_type": "code",
   "execution_count": 8,
   "metadata": {},
   "outputs": [
    {
     "name": "stdout",
     "output_type": "stream",
     "text": [
      "Processing distillation defence ['200'] <class 'list'>\n"
     ]
    }
   ],
   "source": [
    "distil_epochs = str(200)\n",
    "\n",
    "try:\n",
    "    distil_epochs = distil_epochs.split(',')\n",
    "    print('Processing distillation defence', distil_epochs, type(distil_epochs))\n",
    "except:\n",
    "    pass\n",
    "\n",
    "try:\n",
    "    # Kiểm tra xem biến distil_epochs có phải là một chuỗi hay không\n",
    "    if isinstance(distil_epochs, str):\n",
    "        # Tách biến distil_epochs thành một danh sách các chuỗi\n",
    "        distil_epochs = distil_epochs.split(',')\n",
    "\n",
    "        # Chuyển đổi các chuỗi thành số nguyên\n",
    "        distil_epochs = list(map(int, distil_epochs))\n",
    "\n",
    "        print('Processing distillation defence', distil_epochs, type(distil_epochs))\n",
    "except:\n",
    "    pass\n"
   ]
  }
 ],
 "metadata": {
  "kernelspec": {
   "display_name": "qkhanh",
   "language": "python",
   "name": "python3"
  },
  "language_info": {
   "codemirror_mode": {
    "name": "ipython",
    "version": 3
   },
   "file_extension": ".py",
   "mimetype": "text/x-python",
   "name": "python",
   "nbconvert_exporter": "python",
   "pygments_lexer": "ipython3",
   "version": "3.10.13"
  }
 },
 "nbformat": 4,
 "nbformat_minor": 2
}
